{
 "cells": [
  {
   "cell_type": "code",
   "execution_count": null,
   "metadata": {},
   "outputs": [],
   "source": [
    "dict_plot_consumption = [{'x':df_hourly.index, \n",
    "              'y':df_hourly['Consumo carichi, kWh'],\n",
    "              'label':'Consumo carichi',\n",
    "              'mode':'markers+lines'},\n",
    "            ]\n",
    "             \n",
    "title_consumption = 'Consumo aggregato dei membri della CER - Dati orari'\n",
    "xlabel_consumption = 'Data e ora'\n",
    "ylabel_consumption = 'kWh'\n",
    "\n",
    "    "
   ]
  },
  {
   "cell_type": "code",
   "execution_count": null,
   "metadata": {},
   "outputs": [],
   "source": [
    "dict_plot_consumption2 = [{'x':df_monthly['Months'], \n",
    "              'y':df_monthly['Consumo carichi, kWh']/1000,\n",
    "              'label':'Consumo carich',},\n",
    "            ]\n",
    "\n",
    "             \n",
    "title_consumption2 = 'Consumo aggregato dei membri della CER - dati mensili'\n",
    "xlabel_consumption2 = 'Mese'\n",
    "ylabel_consumption2 = 'MWh'\n"
   ]
  },
  {
   "cell_type": "code",
   "execution_count": null,
   "metadata": {},
   "outputs": [],
   "source": [
    "dict_plot_PV1 = [{'x':df_hourly.index, \n",
    "              'y':df_hourly['Produzione PV, kWh'],\n",
    "              'label':'Produzione fotovoltaico',\n",
    "              'mode':'markers+lines'},\n",
    "            ]\n",
    "             \n",
    "title_PV1 = 'Produzione impianto fotovoltaico - Dati orari'\n",
    "xlabel_PV1 = 'Data e ora'\n",
    "ylabel_PV1 = 'kWh'\n"
   ]
  },
  {
   "cell_type": "code",
   "execution_count": null,
   "metadata": {},
   "outputs": [],
   "source": [
    "\n",
    "dict_plot_PV2 = [{'x':df_monthly['Months'], \n",
    "              'y':df_monthly['Produzione PV, kWh']/1000,\n",
    "              'label':'Produzione fotovoltaico',},\n",
    "            ]\n",
    "\n",
    "             \n",
    "title_PV2 = 'Produzione mensile'\n",
    "xlabel_PV2 = 'Mese'\n",
    "ylabel_PV2 = 'MWh'\n",
    "\n"
   ]
  },
  {
   "cell_type": "code",
   "execution_count": 1,
   "metadata": {},
   "outputs": [
    {
     "ename": "NameError",
     "evalue": "name 'df_hourly' is not defined",
     "output_type": "error",
     "traceback": [
      "\u001b[1;31m---------------------------------------------------------------------------\u001b[0m",
      "\u001b[1;31mNameError\u001b[0m                                 Traceback (most recent call last)",
      "\u001b[1;32m<ipython-input-1-2f121fdf4c94>\u001b[0m in \u001b[0;36m<module>\u001b[1;34m\u001b[0m\n\u001b[0;32m      1\u001b[0m dict_plot_energyflux = [\n\u001b[1;32m----> 2\u001b[1;33m                  {'x':df_hourly.index, \n\u001b[0m\u001b[0;32m      3\u001b[0m               \u001b[1;34m'y'\u001b[0m\u001b[1;33m:\u001b[0m\u001b[0mdf_hourly\u001b[0m\u001b[1;33m[\u001b[0m\u001b[1;34m'Consumo carichi, kWh'\u001b[0m\u001b[1;33m]\u001b[0m\u001b[1;33m,\u001b[0m\u001b[1;33m\u001b[0m\u001b[1;33m\u001b[0m\u001b[0m\n\u001b[0;32m      4\u001b[0m               \u001b[1;34m'label'\u001b[0m\u001b[1;33m:\u001b[0m\u001b[1;34m'Consumo carichi'\u001b[0m\u001b[1;33m,\u001b[0m\u001b[1;33m\u001b[0m\u001b[1;33m\u001b[0m\u001b[0m\n\u001b[0;32m      5\u001b[0m               'mode':'markers+lines'},\n",
      "\u001b[1;31mNameError\u001b[0m: name 'df_hourly' is not defined"
     ]
    }
   ],
   "source": [
    "dict_plot_energyflux = [\n",
    "                 {'x':df_hourly.index, \n",
    "              'y':df_hourly['Consumo carichi, kWh'],\n",
    "              'label':'Consumo carichi',\n",
    "              'mode':'markers+lines'},\n",
    "                {'x':df_hourly.index, \n",
    "              'y':df_hourly['Produzione PV, kWh'],\n",
    "              'label':'Produzione fotovoltaico',\n",
    "              'mode':'markers+lines'},\n",
    "                 {'x':df_hourly.index, \n",
    "              'y':df_hourly['Energia ricarica batteria, kWh'],\n",
    "              'label':'Energia ricarica batteria',\n",
    "              'mode':'markers+lines'},\n",
    "                 {'x':df_hourly.index, \n",
    "              'y':df_hourly['Energia scarica batteria, kWh'],\n",
    "              'label':'Energia scarica batteria',\n",
    "              'mode':'markers+lines'},\n",
    "                 {'x':df_hourly.index, \n",
    "              'y':df_hourly['Energia prelevata dalla rete extra, kWh'],\n",
    "              'label':'Energia prelevata dalla rete (extra)',\n",
    "              'mode':'markers+lines'},\n",
    "                 {'x':df_hourly.index, \n",
    "              'y':df_hourly['Energia immessa in rete extra, kWh'],\n",
    "              'label':'Energia immessa in rete (extra)',\n",
    "              'mode':'markers+lines'},\n",
    "                 \n",
    "            ]\n",
    "             \n",
    "title_energyflux = 'Flussi energetici - Dati orari'\n",
    "xlabel_energyflux = 'Data e ora'\n",
    "ylabel_energyflux = 'kWh'\n"
   ]
  },
  {
   "cell_type": "code",
   "execution_count": null,
   "metadata": {},
   "outputs": [],
   "source": [
    "dict_plot_monthly_overall = [{'x':df_monthly['Months'], \n",
    "              'y':df_monthly['Consumo carichi, kWh']/1000,\n",
    "              'label':'Consumo carichi',},\n",
    "                 {'x':df_monthly['Months'], \n",
    "              'y':df_monthly['Produzione PV, kWh']/1000,\n",
    "              'label':'Produzione fotovoltaico',},\n",
    "                 {'x':df_monthly['Months'], \n",
    "              'y':df_monthly['Energia ricarica batteria, kWh']/1000,\n",
    "              'label':'Energia ricarica batteria',},\n",
    "                 {'x':df_monthly['Months'], \n",
    "              'y':df_monthly['Energia scarica batteria, kWh']/1000,\n",
    "              'label':'Energia scarica batteria',},\n",
    "                 {'x':df_monthly['Months'], \n",
    "              'y':df_monthly['Energia prelevata dalla rete extra, kWh']/1000,\n",
    "              'label':'Energia prelevata dalla rete (extra)',},\n",
    "                 {'x':df_monthly['Months'], \n",
    "              'y':df_monthly['Energia immessa in rete extra, kWh']/1000,\n",
    "              'label':'Energia immessa in rete (extra)',},\n",
    "            ]\n",
    "\n",
    "title_monthly_overall = 'Flussi energetici - Dati mensili'\n",
    "xlabel_monthly_overall = 'Mese'\n",
    "ylabel_monthly_overall = 'MWh'\n",
    "\n"
   ]
  },
  {
   "cell_type": "code",
   "execution_count": null,
   "metadata": {},
   "outputs": [],
   "source": [
    "dict_plot_monthly_overall2 = [{'x':df_monthly['Months'], \n",
    "              'y':df_monthly['Energia condivisa PV, kWh']/1000,\n",
    "              'label':'Energia condivisa FV',},\n",
    "                 {'x':df_monthly['Months'], \n",
    "              'y':df_monthly['Energia condivisa batteria, kWh']/1000,\n",
    "              'label':'Energia condivisa batteria',},\n",
    "                 {'x':df_monthly['Months'], \n",
    "              'y':df_monthly['Energia prelevata dalla rete extra, kWh']/1000,\n",
    "              'label':'Energia prelevata dalla rete (extra)',},\n",
    "            ]\n",
    "\n",
    "title_monthly_overall2 = 'Flussi energetici - Dati mensili'\n",
    "xlabel_monthly_overall2 = 'Mese'\n",
    "ylabel_monthly_overall2 = 'MWh'\n"
   ]
  },
  {
   "cell_type": "code",
   "execution_count": null,
   "metadata": {},
   "outputs": [],
   "source": [
    "dict_plot_battery = [{'x':df_hourly.index, \n",
    "              'y':df_hourly['Stato di carica batteria, %'],\n",
    "              'label':'Stato di carica della batteria, %',\n",
    "              'mode':'markers+lines'},\n",
    "            ]\n",
    "             \n",
    "title_battery = 'Stato di carica della batteria'\n",
    "xlabel_battery = 'Data e ora'\n",
    "ylabel_battery = '%'"
   ]
  },
  {
   "cell_type": "code",
   "execution_count": null,
   "metadata": {},
   "outputs": [],
   "source": [
    "dict_VAN = [{'x':df_economic['year'], \n",
    "              'y':df_economic['VAN (Investimento 100 %), eur'], \n",
    "              'label':'Investimento 100 %',\n",
    "              'mode':'markers+lines'},\n",
    "            {'x':df_economic['year'], \n",
    "              'y':df_economic['VAN (Investimento 50 %), eur'], \n",
    "              'label':'Detrazioni 50 % (10 anni)',\n",
    "              'mode':'markers+lines'},\n",
    "            ]\n",
    "             \n",
    "title_VAN = 'Valore attuale netto'\n",
    "xlabel_VAN = 'Anno'\n",
    "ylabel_VAN = 'EUR'\n",
    "    "
   ]
  },
  {
   "cell_type": "code",
   "execution_count": null,
   "metadata": {},
   "outputs": [],
   "source": []
  },
  {
   "cell_type": "code",
   "execution_count": null,
   "metadata": {},
   "outputs": [],
   "source": []
  }
 ],
 "metadata": {
  "kernelspec": {
   "display_name": "Python 3",
   "language": "python",
   "name": "python3"
  },
  "language_info": {
   "codemirror_mode": {
    "name": "ipython",
    "version": 3
   },
   "file_extension": ".py",
   "mimetype": "text/x-python",
   "name": "python",
   "nbconvert_exporter": "python",
   "pygments_lexer": "ipython3",
   "version": "3.8.5"
  }
 },
 "nbformat": 4,
 "nbformat_minor": 4
}
