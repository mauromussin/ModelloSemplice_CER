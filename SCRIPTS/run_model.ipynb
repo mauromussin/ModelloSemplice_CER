{
 "cells": [
  {
   "cell_type": "code",
   "execution_count": 5,
   "metadata": {},
   "outputs": [
    {
     "ename": "NameError",
     "evalue": "name 'pd' is not defined",
     "output_type": "error",
     "traceback": [
      "\u001b[1;31m---------------------------------------------------------------------------\u001b[0m",
      "\u001b[1;31mNameError\u001b[0m                                 Traceback (most recent call last)",
      "\u001b[1;32m<ipython-input-5-aef0410f8874>\u001b[0m in \u001b[0;36m<module>\u001b[1;34m()\u001b[0m\n\u001b[1;32m----> 1\u001b[1;33m \u001b[0mdf_LoadConsumption\u001b[0m \u001b[1;33m=\u001b[0m \u001b[0mpd\u001b[0m\u001b[1;33m.\u001b[0m\u001b[0mread_csv\u001b[0m\u001b[1;33m(\u001b[0m\u001b[0mfilename_Load\u001b[0m\u001b[1;33m,\u001b[0m \u001b[0mdelimiter\u001b[0m\u001b[1;33m=\u001b[0m\u001b[1;34m\";\"\u001b[0m\u001b[1;33m,\u001b[0m \u001b[0mdecimal\u001b[0m\u001b[1;33m=\u001b[0m\u001b[1;34m','\u001b[0m\u001b[1;33m)\u001b[0m\u001b[1;33m\u001b[0m\u001b[0m\n\u001b[0m\u001b[0;32m      2\u001b[0m \u001b[1;31m#df_LoadConsumption.set_index('Ora', drop=True,inplace=True)\u001b[0m\u001b[1;33m\u001b[0m\u001b[1;33m\u001b[0m\u001b[0m\n\u001b[0;32m      3\u001b[0m \u001b[0mprint\u001b[0m\u001b[1;33m(\u001b[0m\u001b[1;34m'Il carico annuale è di '\u001b[0m\u001b[1;33m,\u001b[0m \u001b[0mround\u001b[0m\u001b[1;33m(\u001b[0m\u001b[0mdf_LoadConsumption\u001b[0m\u001b[1;33m[\u001b[0m\u001b[1;34m'Consumo carichi, kWh'\u001b[0m\u001b[1;33m]\u001b[0m\u001b[1;33m.\u001b[0m\u001b[0msum\u001b[0m\u001b[1;33m(\u001b[0m\u001b[1;33m)\u001b[0m\u001b[1;33m/\u001b[0m\u001b[1;36m1e3\u001b[0m\u001b[1;33m,\u001b[0m\u001b[1;36m1\u001b[0m\u001b[1;33m)\u001b[0m\u001b[1;33m,\u001b[0m \u001b[1;34m' MWh'\u001b[0m\u001b[1;33m)\u001b[0m\u001b[1;33m\u001b[0m\u001b[0m\n\u001b[0;32m      4\u001b[0m \u001b[1;33m\u001b[0m\u001b[0m\n\u001b[0;32m      5\u001b[0m \u001b[0mConsumption_Vector\u001b[0m \u001b[1;33m=\u001b[0m \u001b[0mnp\u001b[0m\u001b[1;33m.\u001b[0m\u001b[0marray\u001b[0m\u001b[1;33m(\u001b[0m\u001b[0mdf_LoadConsumption\u001b[0m\u001b[1;33m[\u001b[0m\u001b[1;34m'Consumo carichi, kWh'\u001b[0m\u001b[1;33m]\u001b[0m\u001b[1;33m)\u001b[0m\u001b[1;33m\u001b[0m\u001b[0m\n",
      "\u001b[1;31mNameError\u001b[0m: name 'pd' is not defined"
     ]
    }
   ],
   "source": [
    "df_LoadConsumption = pd.read_csv(filename_Load, delimiter=\";\", decimal=',')\n",
    "#df_LoadConsumption.set_index('Ora', drop=True,inplace=True)\n",
    "print('Il carico annuale è di ', round(df_LoadConsumption['Consumo carichi, kWh'].sum()/1e3,1), ' MWh')\n",
    "\n",
    "Consumption_Vector = np.array(df_LoadConsumption['Consumo carichi, kWh'])\n",
    "consumption = {'Consumption_Vector':Consumption_Vector}\n",
    "\n"
   ]
  },
  {
   "cell_type": "code",
   "execution_count": null,
   "metadata": {},
   "outputs": [],
   "source": [
    "\n",
    "df_PV = pd.read_csv(filename_FV, delimiter=\";\", decimal=',')\n",
    "#df_PV.set_index('Ora', drop=True,inplace=True)\n",
    "df_PV['PV Production, kWh/h'] = df_PV['Produzione FV, kWh']*PV_kWp/PV_kWp_dati\n",
    "print('La produzione FV annuale è di ', round(df_PV['PV Production, kWh/h'].sum()/1e3,1), ' MWh')\n",
    "Production_Vector = np.array(df_PV['PV Production, kWh/h'])\n",
    "PV_plant = {'PV_kWp':PV_kWp, 'Production_Vector':Production_Vector}"
   ]
  },
  {
   "cell_type": "code",
   "execution_count": 1,
   "metadata": {},
   "outputs": [
    {
     "ename": "NameError",
     "evalue": "name 'Capacity_Battery' is not defined",
     "output_type": "error",
     "traceback": [
      "\u001b[1;31m---------------------------------------------------------------------------\u001b[0m",
      "\u001b[1;31mNameError\u001b[0m                                 Traceback (most recent call last)",
      "\u001b[1;32m<ipython-input-1-066001e5eb51>\u001b[0m in \u001b[0;36m<module>\u001b[1;34m\u001b[0m\n\u001b[0;32m      2\u001b[0m \u001b[1;33m\u001b[0m\u001b[0m\n\u001b[0;32m      3\u001b[0m \u001b[1;33m\u001b[0m\u001b[0m\n\u001b[1;32m----> 4\u001b[1;33m battery = {'Capacity_Battery':Capacity_Battery, 'Maximum_Power':Maximum_Power, 'SOC_min':SOC_min,\n\u001b[0m\u001b[0;32m      5\u001b[0m            'eta_BC':eta_BC, 'eta_BD':eta_BD, 'SOC_0':SOC_0}\n",
      "\u001b[1;31mNameError\u001b[0m: name 'Capacity_Battery' is not defined"
     ]
    }
   ],
   "source": [
    "battery = {'Capacity_Battery':Capacity_Battery, 'Maximum_Power':Maximum_Power, 'SOC_min':SOC_min,\n",
    "           'eta_BC':eta_BC, 'eta_BD':eta_BD, 'SOC_0':SOC_0}"
   ]
  },
  {
   "cell_type": "code",
   "execution_count": 2,
   "metadata": {},
   "outputs": [
    {
     "ename": "NameError",
     "evalue": "name 'CAPEX_PV_specifico' is not defined",
     "output_type": "error",
     "traceback": [
      "\u001b[1;31m---------------------------------------------------------------------------\u001b[0m",
      "\u001b[1;31mNameError\u001b[0m                                 Traceback (most recent call last)",
      "\u001b[1;32m<ipython-input-2-2cf6831b8b8d>\u001b[0m in \u001b[0;36m<module>\u001b[1;34m\u001b[0m\n\u001b[1;32m----> 1\u001b[1;33m economy = {'CAPEX_PV_specifico': CAPEX_PV_specifico, 'CAPEX_battery_specifico': CAPEX_battery_specifico, 'OPEX_Perc':OPEX_Perc,\n\u001b[0m\u001b[0;32m      2\u001b[0m           'Inverter':Inverter, 'Incentivo_MISE':Incentivo_MISE, 'Sgravio_ARERA':Sgravio_ARERA, 'Prezzo_El_Mercato':Prezzo_El_Mercato }\n",
      "\u001b[1;31mNameError\u001b[0m: name 'CAPEX_PV_specifico' is not defined"
     ]
    }
   ],
   "source": [
    "economy = {'CAPEX_PV_specifico': CAPEX_PV_specifico, 'CAPEX_battery_specifico': CAPEX_battery_specifico, 'OPEX_Perc':OPEX_Perc,\n",
    "          'Inverter':Inverter, 'Incentivo_MISE':Incentivo_MISE, 'Sgravio_ARERA':Sgravio_ARERA, 'Prezzo_El_Mercato':Prezzo_El_Mercato }"
   ]
  },
  {
   "cell_type": "code",
   "execution_count": 1,
   "metadata": {},
   "outputs": [
    {
     "ename": "NameError",
     "evalue": "name 'Yearly_Calculations' is not defined",
     "output_type": "error",
     "traceback": [
      "\u001b[1;31m---------------------------------------------------------------------------\u001b[0m",
      "\u001b[1;31mNameError\u001b[0m                                 Traceback (most recent call last)",
      "\u001b[1;32m<ipython-input-1-e155eb50fa85>\u001b[0m in \u001b[0;36m<module>\u001b[1;34m()\u001b[0m\n\u001b[1;32m----> 1\u001b[1;33m \u001b[0mdf_hourly\u001b[0m\u001b[1;33m,\u001b[0m \u001b[0menergy_balance\u001b[0m\u001b[1;33m,\u001b[0m \u001b[0meconomy_output\u001b[0m \u001b[1;33m=\u001b[0m \u001b[0mYearly_Calculations\u001b[0m\u001b[1;33m(\u001b[0m\u001b[0mPV_plant\u001b[0m\u001b[1;33m,\u001b[0m \u001b[0mbattery\u001b[0m\u001b[1;33m,\u001b[0m \u001b[0mconsumption\u001b[0m\u001b[1;33m,\u001b[0m \u001b[0meconomy\u001b[0m\u001b[1;33m)\u001b[0m\u001b[1;33m\u001b[0m\u001b[0m\n\u001b[0m\u001b[0;32m      2\u001b[0m \u001b[1;33m\u001b[0m\u001b[0m\n\u001b[0;32m      3\u001b[0m \u001b[0mdf_weekly\u001b[0m \u001b[1;33m=\u001b[0m \u001b[0mdf_hourly\u001b[0m\u001b[1;33m.\u001b[0m\u001b[0mresample\u001b[0m\u001b[1;33m(\u001b[0m\u001b[1;34m'1W'\u001b[0m\u001b[1;33m)\u001b[0m\u001b[1;33m.\u001b[0m\u001b[0msum\u001b[0m\u001b[1;33m(\u001b[0m\u001b[1;33m)\u001b[0m\u001b[1;33m\u001b[0m\u001b[0m\n\u001b[0;32m      4\u001b[0m \u001b[0mdf_monthly\u001b[0m \u001b[1;33m=\u001b[0m \u001b[0mdf_hourly\u001b[0m\u001b[1;33m.\u001b[0m\u001b[0mresample\u001b[0m\u001b[1;33m(\u001b[0m\u001b[1;34m'1M'\u001b[0m\u001b[1;33m)\u001b[0m\u001b[1;33m.\u001b[0m\u001b[0msum\u001b[0m\u001b[1;33m(\u001b[0m\u001b[1;33m)\u001b[0m\u001b[1;33m\u001b[0m\u001b[0m\n\u001b[0;32m      5\u001b[0m \u001b[0mdf_yearly\u001b[0m \u001b[1;33m=\u001b[0m \u001b[0mdf_hourly\u001b[0m\u001b[1;33m.\u001b[0m\u001b[0mresample\u001b[0m\u001b[1;33m(\u001b[0m\u001b[1;34m'1Y'\u001b[0m\u001b[1;33m)\u001b[0m\u001b[1;33m.\u001b[0m\u001b[0msum\u001b[0m\u001b[1;33m(\u001b[0m\u001b[1;33m)\u001b[0m\u001b[1;33m\u001b[0m\u001b[0m\n",
      "\u001b[1;31mNameError\u001b[0m: name 'Yearly_Calculations' is not defined"
     ]
    }
   ],
   "source": [
    "df_hourly, energy_balance, economy_output = Yearly_Calculations(PV_plant, battery, consumption, economy)\n",
    "\n",
    "df_weekly = df_hourly.resample('1W').sum()\n",
    "df_monthly = df_hourly.resample('1M').sum()\n",
    "df_yearly = df_hourly.resample('1Y').sum()\n",
    "\n",
    "List_Months = ['Gennaio', 'Febbraio', 'Marzo', 'Aprile', 'Maggio', 'Giugno', 'Luglio', 'Agosto', 'Settembre', 'Ottobre', 'Novembre', 'Dicembre']\n",
    "df_monthly['Months'] = List_Months\n",
    "\n",
    "years = 20\n",
    "df_economic = Detailed_Economic_Analysis(economy_output, years, Tasso_Attualizzazione)"
   ]
  },
  {
   "cell_type": "code",
   "execution_count": 4,
   "metadata": {},
   "outputs": [
    {
     "ename": "NameError",
     "evalue": "name 'battery' is not defined",
     "output_type": "error",
     "traceback": [
      "\u001b[1;31m---------------------------------------------------------------------------\u001b[0m",
      "\u001b[1;31mNameError\u001b[0m                                 Traceback (most recent call last)",
      "\u001b[1;32m<ipython-input-4-b31726d7d12a>\u001b[0m in \u001b[0;36m<module>\u001b[1;34m()\u001b[0m\n\u001b[1;32m----> 1\u001b[1;33m \u001b[0mbattery\u001b[0m\u001b[1;33m\u001b[0m\u001b[0m\n\u001b[0m",
      "\u001b[1;31mNameError\u001b[0m: name 'battery' is not defined"
     ]
    }
   ],
   "source": [
    "battery"
   ]
  }
 ],
 "metadata": {
  "kernelspec": {
   "display_name": "Python 3",
   "language": "python",
   "name": "python3"
  },
  "language_info": {
   "codemirror_mode": {
    "name": "ipython",
    "version": 3
   },
   "file_extension": ".py",
   "mimetype": "text/x-python",
   "name": "python",
   "nbconvert_exporter": "python",
   "pygments_lexer": "ipython3",
   "version": "3.6.5"
  }
 },
 "nbformat": 4,
 "nbformat_minor": 4
}
