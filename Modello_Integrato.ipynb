{
 "cells": [
  {
   "cell_type": "markdown",
   "metadata": {},
   "source": [
    "## 0) Chiama i pacchetti e gli script necessari (step preliminare)"
   ]
  },
  {
   "cell_type": "code",
   "execution_count": null,
   "metadata": {},
   "outputs": [],
   "source": [
    "# Import needed packages\n",
    "import numpy as np\n",
    "import pandas as pd\n",
    "#import datetime\n",
    "import csv\n",
    "import plotly.graph_objects as go\n",
    "\n",
    "from SCRIPTS.Yearly_Calc import Yearly_Calculations as  Yearly_Calculations\n",
    "from SCRIPTS.detailed_economic import Detailed_Economic_Analysis as  Detailed_Economic_Analysis\n",
    "from SCRIPTS.utils import figure_scatter, figure_bar"
   ]
  },
  {
   "cell_type": "markdown",
   "metadata": {},
   "source": [
    "# 1) Imposta gli input dell'analisi \n",
    "### I campi sottostanti sono gli unici campi da compilare se si vuole far girare il modello senza modificare niente\n",
    "### Nota Bene: Vanno caricati i file .CSV nella cartella INPUT con i dati orari di producibilità fotovoltaica e i dati orari dei consumi\n",
    "### Attenzione: usare i template csv forniti per caricare i dati (mantenere i nomi dei file e il nome delle colonne nel template CSV)"
   ]
  },
  {
   "cell_type": "markdown",
   "metadata": {},
   "source": [
    "### 1 - 0) Scrivi il percorso del file contenente i dati sui consumi orari di tutti i membri della CER"
   ]
  },
  {
   "cell_type": "code",
   "execution_count": null,
   "metadata": {},
   "outputs": [],
   "source": [
    "filename_Load ='INPUT/Consumo_Carichi.csv'"
   ]
  },
  {
   "cell_type": "markdown",
   "metadata": {},
   "source": [
    "### 1 - 1) Taglia dell'impianto fotovoltaico (kWp) per cui sono stati inseriti i dati di producibilità oraria "
   ]
  },
  {
   "cell_type": "code",
   "execution_count": null,
   "metadata": {},
   "outputs": [],
   "source": [
    "filename_FV ='INPUT/Produzione_FV.csv'\n",
    "PV_kWp_dati = 50           #kWp"
   ]
  },
  {
   "cell_type": "markdown",
   "metadata": {},
   "source": [
    "### 1 - 2) Taglia dell'impianto fotovoltaico (kWp) da simulare"
   ]
  },
  {
   "cell_type": "code",
   "execution_count": null,
   "metadata": {},
   "outputs": [],
   "source": [
    "PV_kWp = 100                #kWp"
   ]
  },
  {
   "cell_type": "markdown",
   "metadata": {},
   "source": [
    "### 1 - 3) Dati di progetto della batteria"
   ]
  },
  {
   "cell_type": "code",
   "execution_count": null,
   "metadata": {},
   "outputs": [],
   "source": [
    "Capacity_Battery = 0                              # Capacità, kWh\n",
    "Maximum_Power = 0                                 # Potenza massima erogabile dalla batteria, kW\n",
    "SOC_min = 5                                       # Stato di carica minimo, %\n",
    "eta_BC = 0.99                                     # Efficienza di carica\n",
    "eta_BD = 0.99                                     # Efficienza di scarica\n",
    "SOC_0 = 50                                        # Stato di carica iniziale, %"
   ]
  },
  {
   "cell_type": "markdown",
   "metadata": {},
   "source": [
    "### 1 - 4) Input economici"
   ]
  },
  {
   "cell_type": "code",
   "execution_count": null,
   "metadata": {},
   "outputs": [],
   "source": [
    "# Dati investimento - COSTO DI INVESTIMENTO SPECIFICO\n",
    "CAPEX_PV_specifico = 1200         # eur/kWp\n",
    "CAPEX_battery_specifico = 500     # eur/kWh\n",
    "\n",
    "# Dati costi operativi (espressi in % dell'investimento)\n",
    "OPEX_Perc = 3.5                    # %\n",
    "Inverter  = 10                     # %\n",
    "\n",
    "# Scegli la tipologia di schema\n",
    "# Opzioni 'AC', 'CER'\n",
    "Tipo = 'CER'                      #'CER' oppure 'AC'\n",
    "\n",
    "# Dati incentivo (Lasciare invariato se si vuole rispettare la normativa attuale)\n",
    "Incentivo_MISE     = 0.11  *(Tipo=='CER')  + 0.1*(Tipo=='AC')    # eur/kWh\n",
    "Sgravio_ARERA      = 0.008 *(Tipo=='CER')  + 0.01*(Tipo=='AC')   # eur/kWh\n",
    "\n",
    "# Prezzo di mercato dell'energia elettrica\n",
    "Prezzo_El_Mercato  = 0.05                                        # eur/kWh\n",
    "\n",
    "# Tasso di attualizzazione - necessario per il calcolo del Valore Attuale Netto\n",
    "Tasso_Attualizzazione = 5            # % \n"
   ]
  },
  {
   "cell_type": "markdown",
   "metadata": {},
   "source": [
    "# 2) Simulazione annuale"
   ]
  },
  {
   "cell_type": "code",
   "execution_count": null,
   "metadata": {},
   "outputs": [],
   "source": [
    "%run SCRIPTS/run_model.ipynb\n",
    "\n",
    "%run SCRIPTS/define_figures.ipynb"
   ]
  },
  {
   "cell_type": "markdown",
   "metadata": {},
   "source": [
    "# 3) Risultati"
   ]
  },
  {
   "cell_type": "markdown",
   "metadata": {},
   "source": [
    "## 3.0 - Verifica il bilancio energetico"
   ]
  },
  {
   "cell_type": "code",
   "execution_count": null,
   "metadata": {},
   "outputs": [],
   "source": [
    "energy_balance"
   ]
  },
  {
   "cell_type": "markdown",
   "metadata": {},
   "source": [
    "## 3.1) Consumi "
   ]
  },
  {
   "cell_type": "code",
   "execution_count": null,
   "metadata": {},
   "outputs": [],
   "source": [
    "figure_consumption = figure_scatter(dict_plot_consumption,title_consumption, xlabel_consumption, ylabel_consumption)\n",
    "figure_consumption.show()\n",
    "\n",
    "figure_consumption2 = figure_bar(dict_plot_consumption2,title_consumption2, xlabel_consumption2, ylabel_consumption2)\n",
    "figure_consumption2.show()\n",
    "\n",
    "print('Il carico annuale è di ', round(df_hourly['Consumo carichi, kWh'].sum()/1e3,1), ' MWh')"
   ]
  },
  {
   "cell_type": "markdown",
   "metadata": {},
   "source": [
    "## 3.2 - Produzione fotovoltaico"
   ]
  },
  {
   "cell_type": "code",
   "execution_count": null,
   "metadata": {},
   "outputs": [],
   "source": [
    "figure_PV1 = figure_scatter(dict_plot_PV1,title_PV1, xlabel_PV1, ylabel_PV1)\n",
    "figure_PV1.show()\n",
    "\n",
    "figure_PV2 = figure_bar(dict_plot_PV2,title_PV2, xlabel_PV2, ylabel_PV2)\n",
    "figure_PV2.show()\n",
    "\n",
    "print('La produzione annuale di un impianto da ' ,str(PV_kWp) , ' kWp risulta ugsuale a  ', \n",
    "      round(df_hourly['Produzione PV, kWh'].sum()/1000,2), ' MWh')\n",
    "print('Le ore equivalenti sono ', \n",
    "      round(df_hourly['Produzione PV, kWh'].sum()/PV_kWp,2))"
   ]
  },
  {
   "cell_type": "markdown",
   "metadata": {},
   "source": [
    "## 3.3- Flussi energetici orari annuali"
   ]
  },
  {
   "cell_type": "code",
   "execution_count": null,
   "metadata": {
    "scrolled": false
   },
   "outputs": [],
   "source": [
    "figure_energyflux = figure_scatter(dict_plot_energyflux,title_energyflux, xlabel_energyflux, ylabel_energyflux)\n",
    "figure_energyflux.show()\n",
    "\n",
    "\n",
    "\n",
    "figure_monthly_overall = figure_bar(dict_plot_monthly_overall,title_monthly_overall, xlabel_monthly_overall, ylabel_monthly_overall)\n",
    "figure_monthly_overall.show()\n",
    "\n",
    "\n",
    "\n",
    "figure_monthly_overall2 = figure_bar(dict_plot_monthly_overall2,title_monthly_overall2, xlabel_monthly_overall2, \n",
    "                                     ylabel_monthly_overall2)\n",
    "figure_monthly_overall2.show()\n"
   ]
  },
  {
   "cell_type": "markdown",
   "metadata": {},
   "source": [
    "## 3.4 - Analisi del funzionamento della batteria"
   ]
  },
  {
   "cell_type": "code",
   "execution_count": null,
   "metadata": {},
   "outputs": [],
   "source": [
    "figure_battery = figure_scatter(dict_plot_battery,title_battery, xlabel_battery, ylabel_battery)\n",
    "figure_battery.show()\n",
    "\n",
    "try:\n",
    "    print('In un anno di funzionamento, la batteria subisce ', int(economy_output['Cicli batteria']), ' cicli di carica/scarica')\n",
    "except:\n",
    "    print('Nessuna batteria installata')"
   ]
  },
  {
   "cell_type": "markdown",
   "metadata": {},
   "source": [
    "# 4) Risultati: analisi economica"
   ]
  },
  {
   "cell_type": "markdown",
   "metadata": {},
   "source": [
    "## 4.0) Investimento - Costi operativi e Ricavi"
   ]
  },
  {
   "cell_type": "code",
   "execution_count": null,
   "metadata": {},
   "outputs": [],
   "source": [
    "print('Investimento fotovoltaico, eur', round(economy_output['CAPEX_PV'],0))\n",
    "print('Investimento accumulo, eur', round(economy_output['CAPEX_battery'] ,0))\n",
    "print('Investimento totale, eur', round(economy_output['CAPEX_battery']+economy_output['CAPEX_PV'] ,0))\n",
    "print('Costi operativi, eur/anno', round(economy_output['OPEX'] ,0))\n",
    "print('Costi riampiazzo inverter (anno 10), eur', round(economy_output['InverterCost'] ,0))\n",
    "\n",
    "print()\n",
    "\n",
    "print('Totale energia condivisa PV, kWh ', round(economy_output['Energia_Condivisa_PV'],0))\n",
    "print('Totale energia condivisa batteria, kWh ', round(economy_output['Energia_Condivisa_Batteria'],0))\n",
    "print('Totale energia condivisa, kWh ', round(economy_output['Energia_Condivisa'],0))\n",
    "print()\n",
    "print('% energia condivisa ', round(economy_output['Energia_Condivisa']/economy_output['Energia_Consumi']*100), ' %')\n",
    "print('% energia condivisa Fotovoltaico ', round(economy_output['Energia_Condivisa_PV']/economy_output['Energia_Consumi']*100), ' %')\n",
    "print('% energia condivisa Batteria ', round(economy_output['Energia_Condivisa_Batteria']/economy_output['Energia_Consumi']*100), ' %')\n",
    "print()\n",
    "print('Totale energia consumata, kWh ', round(economy_output['Energia_Consumi'],0))\n",
    "print('Totale energia immessa in rete (totale), kWh ', round(economy_output['Energia_Immessa_In_Rete'],0))\n",
    "print('Totale energia prelevata dalla rete (totale), kWh ', round(economy_output['Energia_Prelevata_tot'],0))\n",
    "print()\n",
    "\n",
    "\n",
    "print('Incentivo MISE, eur/anno ', round(economy_output['Ritorno_MISE'],0))\n",
    "print('Sgravio ARERA, eur/anno ', round(economy_output['Ritorno_ARERA'],0))\n",
    "print('Vendita energia elettrica, eur/anno ', round(economy_output['Ritorno_RID'],0))\n",
    "print('Totale ricavi, eur/anno ', round(economy_output['Totale_Ricavi'],0))\n"
   ]
  },
  {
   "cell_type": "markdown",
   "metadata": {},
   "source": [
    "## 4.1 ) Tempo di ritorno dell'investimento e Valore Attuale Netto a 20 anni\n",
    "NB. Le due curve mostrano lo scenario in cui sono applicate le detrazioni fiscali sul 50 % dell'investimento (per un max investimento di 96.000 EUR) spalmate sui primi 10 anni, e lo scenario in cui nessuna detrazione è applicata"
   ]
  },
  {
   "cell_type": "code",
   "execution_count": null,
   "metadata": {},
   "outputs": [],
   "source": [
    "figure_VAN = figure_scatter(dict_VAN,title_VAN, xlabel_VAN, ylabel_VAN)\n",
    "figure_VAN.show()\n",
    "\n",
    "PBT_1 =  np.round(((economy_output['CAPEX_PV']+economy_output['CAPEX_battery'])/(economy_output['Totale_Ricavi']-economy_output['OPEX'])),1)\n",
    "PBT_detrazioni = np.round(((economy_output['CAPEX_PV']+economy_output['CAPEX_battery'])/(economy_output['Totale_Ricavi']-economy_output['OPEX'] + min((economy_output['CAPEX_PV']+economy_output['CAPEX_battery']), 96000)/10*0.5)),1)\n",
    "print()\n",
    "print('Tempo ritorno dell investimento ', PBT_1 , ' anni')\n",
    "print('Tempo ritorno dell investimento (detrazioni 50 %)',PBT_detrazioni , ' anni')\n"
   ]
  },
  {
   "cell_type": "markdown",
   "metadata": {},
   "source": [
    "## 5) Esporta i risultati in un file CSV"
   ]
  },
  {
   "cell_type": "code",
   "execution_count": null,
   "metadata": {},
   "outputs": [],
   "source": [
    "# Scegli il nome del file in cui salvare i risultati\n",
    "filename_output = 'OUTPUT/OutputSimulazione.csv'"
   ]
  },
  {
   "cell_type": "code",
   "execution_count": null,
   "metadata": {},
   "outputs": [],
   "source": [
    "OUTPUT_DICTIONARY = {'Taglia FV kWp': PV_kWp, \n",
    "                     'Taglia batteria kWh': Capacity_Battery, \n",
    "                     'Consumi annuali kWh/anno': economy_output['Energia_Consumi'],\n",
    "                     'Investimento FV EUR': economy_output['CAPEX_PV'],\n",
    "                     'Investimento accumulo EUR': economy_output['CAPEX_battery'],\n",
    "                     'Costi operativi EUR/anno': economy_output['OPEX'],\n",
    "                     'Costi riampiazzo inverter EUR/anno': economy_output['InverterCost'],\n",
    "                     'Energia condivisa FV kWh/anno': economy_output['Energia_Condivisa_PV'],\n",
    "                     'Energia condivisa batteria kWh/anno': economy_output['Energia_Condivisa_Batteria'],\n",
    "                     'Totale energia immessa in rete kWh/anno': economy_output['Energia_Immessa_In_Rete'],\n",
    "                     'Totale energia prelevata dalla rete kWh/anno': economy_output['Energia_Prelevata_tot'],\n",
    "                     'Ricavo MISE EUR/anno':economy_output['Ritorno_MISE'],\n",
    "                     'Sgravio ARERA EUR/anno':economy_output['Ritorno_ARERA'],\n",
    "                     'Vendita energia elettrica EUR/anno': economy_output['Ritorno_RID'],\n",
    "                     'Tempo di ritorno senza detrazioni': PBT_1,\n",
    "                     'Tempo di ritorno con detrazioni': PBT_detrazioni,\n",
    "                    }\n",
    "\n",
    "df_OUTPUT = pd.DataFrame.from_dict(OUTPUT_DICTIONARY,orient='index')\n",
    "df_OUTPUT.to_csv(filename_output, decimal =',', sep=';')"
   ]
  },
  {
   "cell_type": "code",
   "execution_count": null,
   "metadata": {},
   "outputs": [],
   "source": [
    "\n"
   ]
  },
  {
   "cell_type": "code",
   "execution_count": null,
   "metadata": {},
   "outputs": [],
   "source": []
  },
  {
   "cell_type": "code",
   "execution_count": null,
   "metadata": {},
   "outputs": [],
   "source": []
  },
  {
   "cell_type": "code",
   "execution_count": null,
   "metadata": {},
   "outputs": [],
   "source": []
  }
 ],
 "metadata": {
  "kernelspec": {
   "display_name": "Python 3",
   "language": "python",
   "name": "python3"
  },
  "language_info": {
   "codemirror_mode": {
    "name": "ipython",
    "version": 3
   },
   "file_extension": ".py",
   "mimetype": "text/x-python",
   "name": "python",
   "nbconvert_exporter": "python",
   "pygments_lexer": "ipython3",
   "version": "3.8.5"
  }
 },
 "nbformat": 4,
 "nbformat_minor": 4
}
