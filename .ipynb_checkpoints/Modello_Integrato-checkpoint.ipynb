{
 "cells": [
  {
   "cell_type": "code",
   "execution_count": null,
   "metadata": {},
   "outputs": [],
   "source": [
    "# Import needed packages\n",
    "import numpy as np\n",
    "import pandas as pd\n",
    "import datetime\n",
    "import csv\n",
    "import plotly.graph_objects as go\n",
    "import os\n",
    "import datetime\n",
    "from SCRIPTS.Yearly_Calc import Yearly_Calculations as  Yearly_Calculations\n",
    "from SCRIPTS.detailed_economic import Detailed_Economic_Analysis as  Detailed_Economic_Analysis\n",
    "\n",
    "# Check where I am in the path\n",
    "os.path.abspath(os.getcwd())"
   ]
  },
  {
   "cell_type": "markdown",
   "metadata": {},
   "source": [
    "## 1) Importa i dati orari annuali dei consumi"
   ]
  },
  {
   "cell_type": "code",
   "execution_count": null,
   "metadata": {},
   "outputs": [],
   "source": [
    "filename ='INPUT/Consumo_Carichi.csv'\n",
    "df_LoadConsumption = pd.read_csv(filename, delimiter=\";\", decimal=',')\n",
    "df_LoadConsumption.set_index('Ora', drop=True,inplace=True)\n",
    "print('Il carico annuale è di ', round(df_LoadConsumption['Consumo carichi, kWh'].sum()/1e3,1), ' MWh')\n",
    "\n",
    "Consumption_Vector = np.array(df_LoadConsumption['Consumo carichi, kWh'])\n",
    "consumption = {'Consumption_Vector':Consumption_Vector}"
   ]
  },
  {
   "cell_type": "markdown",
   "metadata": {},
   "source": [
    "## 2) Importa i dati di producibilità oraria del campo fotovoltaico \n",
    "\n",
    "\n",
    "### 2-1) Inserisci la taglia dell'impianto per cui si sono caricati i dati"
   ]
  },
  {
   "cell_type": "code",
   "execution_count": null,
   "metadata": {},
   "outputs": [],
   "source": [
    "PV_kWp_dati = 50           #kWp"
   ]
  },
  {
   "cell_type": "markdown",
   "metadata": {},
   "source": [
    "### 2-2) Inserisci la taglia dell'impianto che vuoi simulare"
   ]
  },
  {
   "cell_type": "code",
   "execution_count": null,
   "metadata": {},
   "outputs": [],
   "source": [
    "PV_kWp = 50                #kWp"
   ]
  },
  {
   "cell_type": "code",
   "execution_count": null,
   "metadata": {},
   "outputs": [],
   "source": [
    "filename ='INPUT/Produzione_FV.csv'\n",
    "df_PV = pd.read_csv(filename, delimiter=\";\", decimal=',')\n",
    "df_PV.set_index('Ora', drop=True,inplace=True)\n",
    "df_PV['PV Production, kWh/h'] = df_PV['Produzione FV, kWh']*PV_kWp/PV_kWp_dati\n",
    "print('La produzione FV annuale è di ', round(df_PV['PV Production, kWh/h'].sum()/1e3,1), ' MWh')\n",
    "Production_Vector = np.array(df_PV['PV Production, kWh/h'])\n",
    "PV_plant = {'PV_kWp':PV_kWp, 'Production_Vector':Production_Vector}"
   ]
  },
  {
   "cell_type": "markdown",
   "metadata": {},
   "source": [
    "## 3) Imposta i dati di progetto della batteria"
   ]
  },
  {
   "cell_type": "code",
   "execution_count": null,
   "metadata": {},
   "outputs": [],
   "source": [
    "# Scegli la capacità della batteria in kWh\n",
    "Capacity_Battery = 50                             # Capacità, kWh\n",
    "Maximum_Power = 50                                # Potenza massima erogabile dalla batteria, kW\n",
    "SOC_min = 5                                       # Stato di carica minimo, %\n",
    "eta_BC = 0.99                                     # Efficienza di carica\n",
    "eta_BD = 0.99                                     # Efficienza di scarica\n",
    "SOC_0 = 50                                        # Stato di carica iniziale, %\n",
    "\n",
    "battery = {'Capacity_Battery':Capacity_Battery, 'Maximum_Power':Maximum_Power, 'SOC_min':SOC_min,\n",
    "           'eta_BC':eta_BC, 'eta_BD':eta_BD, 'SOC_0':SOC_0}"
   ]
  },
  {
   "cell_type": "markdown",
   "metadata": {},
   "source": [
    "## 4) Imposta gli input per i calcoli economici"
   ]
  },
  {
   "cell_type": "code",
   "execution_count": null,
   "metadata": {},
   "outputs": [],
   "source": [
    "# Dati investimento:\n",
    "CAPEX_PV_specifico = 1200         # eur/kWp\n",
    "CAPEX_battery_specifico = 500     # eur/kWh\n",
    "\n",
    "# Dati costi operativi (espressi in % dell'investimento)\n",
    "OPEX_Perc = 3.5                    # %\n",
    "Inverter  = 10                     # %\n",
    "\n",
    "# Scegli la tipologia di schema\n",
    "# Opzioni 'AC', 'CER'\n",
    "Tipo = 'CER'                      #'CER' oppure 'AC'\n",
    "\n",
    "# Dati incentivo:\n",
    "Incentivo_MISE     = 0.11  *(Tipo=='CER')  + 0.1*(Tipo=='AC')    # eur/kWh\n",
    "Sgravio_ARERA      = 0.008 *(Tipo=='CER')  + 0.01*(Tipo=='AC')   # eur/kWh\n",
    "Prezzo_El_Mercato  = 0.05                                        # eur/kWh\n",
    "\n",
    "Tasso_Attualizzazione = 5  # % - Tasso di attualizzazione per il calcolo del VAN\n",
    "\n",
    "economy = {'CAPEX_PV_specifico': CAPEX_PV_specifico, 'CAPEX_battery_specifico': CAPEX_battery_specifico, 'OPEX_Perc':OPEX_Perc,\n",
    "          'Inverter':Inverter, 'Incentivo_MISE':Incentivo_MISE, 'Sgravio_ARERA':Sgravio_ARERA, 'Prezzo_El_Mercato':Prezzo_El_Mercato }"
   ]
  },
  {
   "cell_type": "markdown",
   "metadata": {},
   "source": [
    "## 5) Simulazione annuale"
   ]
  },
  {
   "cell_type": "code",
   "execution_count": null,
   "metadata": {},
   "outputs": [],
   "source": [
    "df_hourly, energy_balance, economy_output = Yearly_Calculations(PV_plant, battery, consumption, economy)\n",
    "\n",
    "df_weekly = df_hourly.resample('1W').sum()\n",
    "df_monthly = df_hourly.resample('1M').sum()\n",
    "df_yearly = df_hourly.resample('1Y').sum()\n",
    "\n",
    "List_Months = ['Gennaio', 'Febbraio', 'Marzo', 'Aprile', 'Maggio', 'Giugno', 'Luglio', 'Agosto', 'Settembre', 'Ottobre', 'Novembre', 'Dicembre']\n",
    "df_monthly['Months'] = List_Months\n",
    "\n",
    "years = 20\n",
    "df_economic = Detailed_Economic_Analysis(economy_output, years, Tasso_Attualizzazione)"
   ]
  },
  {
   "cell_type": "markdown",
   "metadata": {},
   "source": [
    "## 6) Risultati"
   ]
  },
  {
   "cell_type": "markdown",
   "metadata": {},
   "source": [
    "### 6.0 - Verifica il bilancio energetico"
   ]
  },
  {
   "cell_type": "code",
   "execution_count": null,
   "metadata": {},
   "outputs": [],
   "source": [
    "energy_balance"
   ]
  },
  {
   "cell_type": "markdown",
   "metadata": {},
   "source": [
    "## 6.0) Consumi "
   ]
  },
  {
   "cell_type": "code",
   "execution_count": null,
   "metadata": {},
   "outputs": [],
   "source": [
    "figure_consumption_1 = go.Figure(data= [go.Scattergl(x=df_hourly.index, \n",
    "                                     y=df_hourly['Consumo carichi, kWh'], \n",
    "                                     mode='markers+lines',\n",
    "                                    name='carichi elettrici'),\n",
    "            ]\n",
    "                            )\n",
    "figure_consumption_1.update_layout(title=go.layout.Title(text=\"Consumi orari\" ))\n",
    "figure_consumption_1.update_xaxes(title_text='Date and time')\n",
    "figure_consumption_1.update_yaxes(title_text='kWh')\n",
    "figure_consumption_1.show()\n",
    "\n",
    "figure_monthly_consumption = go.Figure(\n",
    "    data=[go.Bar(x=df_monthly['Months'], y=df_monthly['Consumo carichi, kWh']/1000,\n",
    "                 name='Produzione fotovoltaico'),\n",
    "         ],\n",
    "    layout=go.Layout(\n",
    "        title=go.layout.Title(text=\"Consumo carichi, MWh\")\n",
    "    )\n",
    ")\n",
    "\n",
    "figure_monthly_consumption.update_layout(barmode='stack')\n",
    "figure_monthly_consumption.update_xaxes(title_text='Date and time')\n",
    "figure_monthly_consumption.update_yaxes(title_text='MWh')\n",
    "figure_monthly_consumption.show()\n",
    "\n",
    "print('Il carico annuale è di ', round(df_hourly['Consumo carichi, kWh'].sum()/1e3,1), ' MWh')"
   ]
  },
  {
   "cell_type": "markdown",
   "metadata": {},
   "source": [
    "## 6.1 - Produzione fotovoltaico"
   ]
  },
  {
   "cell_type": "code",
   "execution_count": null,
   "metadata": {},
   "outputs": [],
   "source": [
    "figure_PV_1 = go.Figure(data= [go.Scattergl(x=df_hourly.index, \n",
    "                                     y=df_hourly['Produzione PV, kWh'], \n",
    "                                     mode='markers+lines',\n",
    "                                    name='produzione fotovoltaico'),\n",
    "            ]\n",
    "                            )\n",
    "figure_PV_1.update_layout(title=go.layout.Title(text=\"Produzione oraria\" ))\n",
    "figure_PV_1.update_xaxes(title_text='Date and time')\n",
    "figure_PV_1.update_yaxes(title_text='kWh')\n",
    "figure_PV_1.show()\n",
    "\n",
    "figure_monthly_PV = go.Figure(\n",
    "    data=[go.Bar(x=df_monthly['Months'], y=df_monthly['Produzione PV, kWh']/1000,\n",
    "                 name='Produzione fotovoltaico'),\n",
    "         ],\n",
    "    layout=go.Layout(\n",
    "        title=go.layout.Title(text=\"Produzione mensile\")\n",
    "    )\n",
    ")\n",
    "\n",
    "figure_monthly_PV.update_layout(barmode='stack')\n",
    "figure_monthly_PV.update_xaxes(title_text='Date and time')\n",
    "figure_monthly_PV.update_yaxes(title_text='MWh')\n",
    "figure_monthly_PV.show()\n",
    "\n",
    "print('La produzione annuale di un impianto da ' ,str(PV_kWp) , ' kWp risulta ugsuale a  ', \n",
    "      round(df_hourly['Produzione PV, kWh'].sum()/1000,2), ' MWh')\n",
    "print('Le ore equivalenti sono ', \n",
    "      round(df_hourly['Produzione PV, kWh'].sum()/PV_kWp,2))"
   ]
  },
  {
   "cell_type": "markdown",
   "metadata": {},
   "source": [
    "## 6.2 - Flussi energetici orari annuali"
   ]
  },
  {
   "cell_type": "code",
   "execution_count": null,
   "metadata": {},
   "outputs": [],
   "source": [
    "figure_1 = go.Figure(data= [\n",
    "                           go.Scattergl(x=df_hourly.index, \n",
    "                                     y=df_hourly['Consumo carichi, kWh'], \n",
    "                                     mode='markers+lines',\n",
    "                                    name='Consumo carichi'),\n",
    "                            go.Scattergl(x=df_hourly.index, \n",
    "                                     y=df_hourly['Produzione PV, kWh'], \n",
    "                                     mode='markers+lines',\n",
    "                                    name='Produzione fotovoltaico'),\n",
    "                            go.Scattergl(x=df_hourly.index, \n",
    "                                     y=df_hourly['Energia ricarica batteria, kWh'], \n",
    "                                     mode='markers+lines',\n",
    "                                    name='Energia ricarica batteria'),\n",
    "                            go.Scattergl(x=df_hourly.index, \n",
    "                                     y=df_hourly['Energia scarica batteria, kWh'], \n",
    "                                     mode='markers+lines',\n",
    "                                    name='Energia scarica batteria'),\n",
    "                           go.Scattergl(x=df_hourly.index, \n",
    "                                     y=df_hourly['Energia prelevata dalla rete extra, kWh'], \n",
    "                                     mode='markers+lines',\n",
    "                                    name='Energia prelevata dalla rete'),\n",
    "                            go.Scattergl(x=df_hourly.index, \n",
    "                                     y=df_hourly['Energia immessa in rete extra, kWh'], \n",
    "                                     mode='markers+lines',\n",
    "                                    name='Energia immessa in rete'),])\n",
    "                            \n",
    "figure_1.update_layout(title=go.layout.Title(text=\"Flussi energetici - Dati orari\" ))\n",
    "figure_1.update_xaxes(title_text='Date and time')\n",
    "figure_1.update_yaxes(title_text='kWh')\n",
    "figure_1.show()\n",
    "\n",
    "\n",
    "figure_monthly_overall = go.Figure(\n",
    "    data=[go.Bar(x=df_monthly['Months'], y=df_monthly['Consumo carichi, kWh']/1000,\n",
    "                 name='Consumi'),\n",
    "          go.Bar(x=df_monthly['Months'], y=df_monthly['Produzione PV, kWh']/1000,\n",
    "                 name='Produzione FV'),\n",
    "          go.Bar(x=df_monthly['Months'], y=df_monthly['Energia ricarica batteria, kWh']/1000,\n",
    "                 name='Energia ricarica batteria'),\n",
    "          go.Bar(x=df_monthly['Months'], y=df_monthly['Energia scarica batteria, kWh']/1000,\n",
    "                 name='Energia scarica batteria'),\n",
    "          go.Bar(x=df_monthly['Months'], y=df_monthly['Energia prelevata dalla rete extra, kWh']/1000,\n",
    "                 name='Energia prelevata dalla rete (virtualmente)'),\n",
    "         go.Bar(x=df_monthly['Months'], y=df_monthly['Energia immessa in rete extra, kWh']/1000,\n",
    "                 name='Energia immessa in rete (virtualmente)'),\n",
    "          \n",
    "         ],\n",
    "    layout=go.Layout(\n",
    "        title=go.layout.Title(text=\"Flussi energetici - Dati mensili\")\n",
    "    )\n",
    ")\n",
    "\n",
    "figure_monthly_overall.update_layout(barmode='stack')\n",
    "figure_monthly_overall.update_xaxes(title_text='Date and time')\n",
    "figure_monthly_overall.update_yaxes(title_text='MWh')\n",
    "figure_monthly_overall.show()\n",
    "\n",
    "\n",
    "figure_monthly_overall_2 = go.Figure(\n",
    "    data=[go.Bar(x=df_monthly['Months'], y=df_monthly['Energia condivisa PV, kWh']/1000,\n",
    "                 name='Energia condivisa fotovoltaico'),\n",
    "          go.Bar(x=df_monthly['Months'], y=df_monthly['Energia condivisa batteria, kWh']/1000,\n",
    "                 name='Energia condivisa batteria'),\n",
    "        go.Bar(x=df_monthly['Months'], y=df_monthly['Energia prelevata dalla rete extra, kWh']/1000,\n",
    "                 name='Energia prelevata dalla rete (virtualmente)'),\n",
    "         ],\n",
    "    layout=go.Layout(\n",
    "        title=go.layout.Title(text=\"Copertura dei consumi - breakdown mensile\")\n",
    "    )\n",
    ")\n",
    "\n",
    "figure_monthly_overall_2.update_layout(barmode='stack')\n",
    "figure_monthly_overall_2.update_xaxes(title_text='Date and time')\n",
    "figure_monthly_overall_2.update_yaxes(title_text='MWh')\n",
    "figure_monthly_overall_2.show()\n"
   ]
  },
  {
   "cell_type": "markdown",
   "metadata": {},
   "source": [
    "## 6.3 - Analisi del funzionamento della batteria"
   ]
  },
  {
   "cell_type": "code",
   "execution_count": null,
   "metadata": {},
   "outputs": [],
   "source": [
    "figure_3 = go.Figure(data= [go.Scattergl(x=df_hourly.index, \n",
    "                                     y=df_hourly['Stato di carica batteria, %'], \n",
    "                                     mode='markers+lines',\n",
    "                                    name='Stato di carica batteria, %'),\n",
    "            ]\n",
    "                            )\n",
    "figure_3.update_layout(title=go.layout.Title(text=\"Stato di carica batteria, %\" ))\n",
    "figure_3.update_xaxes(title_text='Date and time')\n",
    "figure_3.update_yaxes(title_text='%')\n",
    "figure_3.show()\n",
    "\n",
    "print('In un anno di funzionamento, la batteria subisce ', int(economy_output['Cicli batteria']), ' cicli di carica/scarica')\n"
   ]
  },
  {
   "cell_type": "markdown",
   "metadata": {},
   "source": [
    "# 7) Risultati: analisi economica"
   ]
  },
  {
   "cell_type": "markdown",
   "metadata": {},
   "source": [
    "## 7.0) Investimento - Costi operativi e Ricavi"
   ]
  },
  {
   "cell_type": "code",
   "execution_count": null,
   "metadata": {},
   "outputs": [],
   "source": [
    "print('Investimento fotovoltaico, eur', round(economy_output['CAPEX_PV'],0))\n",
    "print('Investimento accumulo, eur', round(economy_output['CAPEX_battery'] ,0))\n",
    "print('Investimento totale, eur', round(economy_output['CAPEX_battery']+economy_output['CAPEX_PV'] ,0))\n",
    "print('Costi operativi, eur/anno', round(economy_output['OPEX'] ,0))\n",
    "print('Costi riampiazzo inverter (anno 10), eur', round(economy_output['InverterCost'] ,0))\n",
    "\n",
    "print()\n",
    "\n",
    "print('Totale energia condivisa PV, kWh ', round(economy_output['Energia_Condivisa_PV'],0))\n",
    "print('Totale energia condivisa batteria, kWh ', round(economy_output['Energia_Condivisa_Batteria'],0))\n",
    "print('Totale energia condivisa, kWh ', round(economy_output['Energia_Condivisa'],0))\n",
    "print()\n",
    "print('% energia condivisa ', round(economy_output['Energia_Condivisa']/economy_output['Energia_Consumi']*100), ' %')\n",
    "print('% energia condivisa Fotovoltaico ', round(economy_output['Energia_Condivisa_PV']/economy_output['Energia_Consumi']*100), ' %')\n",
    "print('% energia condivisa Batteria ', round(economy_output['Energia_Condivisa_Batteria']/economy_output['Energia_Consumi']*100), ' %')\n",
    "print()\n",
    "print('Totale energia consumata, kWh ', round(economy_output['Energia_Consumi'],0))\n",
    "print('Totale energia immessa in rete (totale), kWh ', round(economy_output['Energia_Immessa_In_Rete'],0))\n",
    "print('Totale energia prelevata dalla rete (totale), kWh ', round(economy_output['Energia_Prelevata_tot'],0))\n",
    "print()\n",
    "\n",
    "\n",
    "print('Incentivo MISE, eur/anno ', round(economy_output['Ritorno_MISE'],0))\n",
    "print('Sgravio ARERA, eur/anno ', round(economy_output['Ritorno_ARERA'],0))\n",
    "print('Vendita energia elettrica, eur/anno ', round(economy_output['Ritorno_RID'],0))\n",
    "print('Totale ricavi, eur/anno ', round(economy_output['Totale_Ricavi'],0))\n"
   ]
  },
  {
   "cell_type": "markdown",
   "metadata": {},
   "source": [
    "## 7.1 ) Tempo di ritorno dell'investimento e Valore Attuale Netto a 20 anni"
   ]
  },
  {
   "cell_type": "code",
   "execution_count": null,
   "metadata": {},
   "outputs": [],
   "source": [
    "figure_VAN = go.Figure(data= [\n",
    "                           go.Scattergl(x=df_economic['year'], \n",
    "                                     y=df_economic['VAN (Investimento 100 %), eur'], \n",
    "                                     mode='markers+lines',\n",
    "                                    name='Investimento 100 %'),\n",
    "                            go.Scattergl(x=df_economic['year'], \n",
    "                                     y=df_economic['VAN (Investimento 50 %), eur'], \n",
    "                                     mode='markers+lines',\n",
    "                                    name='Detrazioni 50 % (10 anni)'),\n",
    "                   ])\n",
    "                            \n",
    "figure_VAN.update_layout(title=go.layout.Title(text=\"Valore attuale netto\" ))\n",
    "figure_VAN.update_xaxes(title_text='Anno')\n",
    "figure_VAN.update_yaxes(title_text='EUR')\n",
    "figure_VAN.show()\n",
    "\n",
    "print()\n",
    "print('Tempo ritorno dell investimento ', np.round(((economy_output['CAPEX_PV']+economy_output['CAPEX_battery'])/(economy_output['Totale_Ricavi']-economy_output['OPEX'])),1), ' anni')\n",
    "print('Tempo ritorno dell investimento (detrazioni 50 %)', np.round(((economy_output['CAPEX_PV']+economy_output['CAPEX_battery'])/(economy_output['Totale_Ricavi']-economy_output['OPEX'] + min((economy_output['CAPEX_PV']+economy_output['CAPEX_battery']), 96000)/10*0.5)),1), ' anni')\n"
   ]
  }
 ],
 "metadata": {
  "kernelspec": {
   "display_name": "Python 3",
   "language": "python",
   "name": "python3"
  },
  "language_info": {
   "codemirror_mode": {
    "name": "ipython",
    "version": 3
   },
   "file_extension": ".py",
   "mimetype": "text/x-python",
   "name": "python",
   "nbconvert_exporter": "python",
   "pygments_lexer": "ipython3",
   "version": "3.8.5"
  }
 },
 "nbformat": 4,
 "nbformat_minor": 4
}
